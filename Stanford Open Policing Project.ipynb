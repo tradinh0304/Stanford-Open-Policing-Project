{
 "cells": [
  {
   "cell_type": "markdown",
   "metadata": {},
   "source": [
    "# Tra Dinh - Stanford Open Policing Project"
   ]
  },
  {
   "cell_type": "code",
   "execution_count": 2,
   "metadata": {},
   "outputs": [
    {
     "data": {
      "text/html": [
       "<style>\n",
       "blockquote { background: #AEDE94; }\n",
       "h1 { \n",
       "    padding-top: 25px;\n",
       "    padding-bottom: 25px;\n",
       "    text-align: left; \n",
       "    padding-left: 10px;\n",
       "    background-color: #DDDDDD; \n",
       "    color: black;\n",
       "}\n",
       "h2 { \n",
       "    padding-top: 10px;\n",
       "    padding-bottom: 10px;\n",
       "    text-align: left; \n",
       "    padding-left: 5px;\n",
       "    background-color: #EEEEEE; \n",
       "    color: black;\n",
       "}\n",
       "\n",
       "div.exercise {\n",
       "\tbackground-color: #ffcccc;\n",
       "\tborder-color: #E9967A; \t\n",
       "\tborder-left: 5px solid #800080; \n",
       "\tpadding: 0.5em;\n",
       "}\n",
       "\n",
       "div.exercise-r {\n",
       "\tbackground-color: #fce8e8;\n",
       "\tborder-color: #E9967A; \t\n",
       "\tborder-left: 5px solid #800080; \n",
       "\tpadding: 0.5em;\n",
       "}\n",
       "\n",
       "\n",
       "span.sub-q {\n",
       "\tfont-weight: bold;\n",
       "}\n",
       "div.theme {\n",
       "\tbackground-color: #DDDDDD;\n",
       "\tborder-color: #E9967A; \t\n",
       "\tborder-left: 5px solid #800080; \n",
       "\tpadding: 0.5em;\n",
       "\tfont-size: 18pt;\n",
       "}\n",
       "div.gc { \n",
       "\tbackground-color: #AEDE94;\n",
       "\tborder-color: #E9967A; \t \n",
       "\tborder-left: 5px solid #800080; \n",
       "\tpadding: 0.5em;\n",
       "\tfont-size: 12pt;\n",
       "}\n",
       "p.q1 { \n",
       "    padding-top: 5px;\n",
       "    padding-bottom: 5px;\n",
       "    text-align: left; \n",
       "    padding-left: 5px;\n",
       "    background-color: #EEEEEE; \n",
       "    color: black;\n",
       "}\n",
       "header {\n",
       "   padding-top: 35px;\n",
       "    padding-bottom: 35px;\n",
       "    text-align: left; \n",
       "    padding-left: 10px;\n",
       "    background-color: #DDDDDD; \n",
       "    color: black;\n",
       "}\n",
       "</style>\n",
       "\n"
      ],
      "text/plain": [
       "<IPython.core.display.HTML object>"
      ]
     },
     "execution_count": 2,
     "metadata": {},
     "output_type": "execute_result"
    }
   ],
   "source": [
    "import requests\n",
    "import numpy as np\n",
    "import matplotlib.pyplot as plt\n",
    "from IPython.core.display import HTML\n",
    "styles = requests.get(\"https://raw.githubusercontent.com/Harvard-IACS/2018-CS109A/master/content/styles/cs109.css\").text\n",
    "HTML(styles)"
   ]
  },
  {
   "cell_type": "markdown",
   "metadata": {},
   "source": [
    "# Stanford Open Policing Project\n",
    "\n",
    "The [Stanford Open Policing Project](https://openpolicing.stanford.edu/) collects and standardizes data on vehicle and pedestrian stops from law enforcement departments across the United States.  They have gathered over 200 million records from dozens of state and local police departments across the country.  In this project, we will examine a subset of the data from the state of Rhode Island, which is the smallest US state in size."
   ]
  },
  {
   "cell_type": "markdown",
   "metadata": {},
   "source": [
    "<div class=\"exercise\"><b>Task 1: Loading and Examining Traffic Stop Data</b></div> \n",
    "\n",
    "To start analyzing the traffic stop data from Rhode Island, we first need to import the necessary Pandas library. Next, we will read the traffic.csv file from the project1Data folder and assign it to the data frame named traffic. To get an initial understanding of the data, we will print the first 5 rows of the data frame to familiarize ourselves with the columns. Similarly, we will print the last 5 rows to ensure we have a comprehensive view of the dataset. Finally, we will print the shape of the data frame to know the number of rows and columns present in the dataset. "
   ]
  },
  {
   "cell_type": "code",
   "execution_count": 4,
   "metadata": {},
   "outputs": [
    {
     "name": "stdout",
     "output_type": "stream",
     "text": [
      "  state   stop_date stop_time  county_name driver_gender driver_race  \\\n",
      "0    RI  2005-01-04     12:55          NaN             M       White   \n",
      "1    RI  2005-01-23     23:15          NaN             M       White   \n",
      "2    RI  2005-02-17     04:15          NaN             M       White   \n",
      "3    RI  2005-02-20     17:15          NaN             M       White   \n",
      "4    RI  2005-02-24     01:20          NaN             F       White   \n",
      "\n",
      "                    violation_raw  violation  search_conducted search_type  \\\n",
      "0  Equipment/Inspection Violation  Equipment             False         NaN   \n",
      "1                        Speeding   Speeding             False         NaN   \n",
      "2                        Speeding   Speeding             False         NaN   \n",
      "3                Call for Service      Other             False         NaN   \n",
      "4                        Speeding   Speeding             False         NaN   \n",
      "\n",
      "    stop_outcome is_arrested stop_duration  drugs_related_stop district  \n",
      "0       Citation       False      0-15 Min               False  Zone X4  \n",
      "1       Citation       False      0-15 Min               False  Zone K3  \n",
      "2       Citation       False      0-15 Min               False  Zone X4  \n",
      "3  Arrest Driver        True     16-30 Min               False  Zone X1  \n",
      "4       Citation       False      0-15 Min               False  Zone X3  \n",
      "      state   stop_date stop_time  county_name driver_gender driver_race  \\\n",
      "91736    RI  2015-12-31     21:21          NaN             F       Black   \n",
      "91737    RI  2015-12-31     21:59          NaN             F       White   \n",
      "91738    RI  2015-12-31     22:04          NaN             M       White   \n",
      "91739    RI  2015-12-31     22:09          NaN             F    Hispanic   \n",
      "91740    RI  2015-12-31     22:47          NaN             M       White   \n",
      "\n",
      "                        violation_raw            violation  search_conducted  \\\n",
      "91736         Other Traffic Violation     Moving violation             False   \n",
      "91737                        Speeding             Speeding             False   \n",
      "91738         Other Traffic Violation     Moving violation             False   \n",
      "91739  Equipment/Inspection Violation            Equipment             False   \n",
      "91740          Registration Violation  Registration/plates             False   \n",
      "\n",
      "      search_type stop_outcome is_arrested stop_duration  drugs_related_stop  \\\n",
      "91736         NaN     Citation       False      0-15 Min               False   \n",
      "91737         NaN     Citation       False      0-15 Min               False   \n",
      "91738         NaN     Citation       False      0-15 Min               False   \n",
      "91739         NaN      Warning       False      0-15 Min               False   \n",
      "91740         NaN     Citation       False      0-15 Min               False   \n",
      "\n",
      "      district  \n",
      "91736  Zone K2  \n",
      "91737  Zone K3  \n",
      "91738  Zone X3  \n",
      "91739  Zone K3  \n",
      "91740  Zone X4  \n",
      "(91741, 15)\n"
     ]
    }
   ],
   "source": [
    "import pandas as pd\n",
    "traffic = pd.read_csv(\"project1Data/traffic.csv\") \n",
    "print(traffic.head())\n",
    "print(traffic.tail())\n",
    "print(traffic.shape)"
   ]
  },
  {
   "cell_type": "markdown",
   "metadata": {},
   "source": [
    "<div class=\"exercise\"><b>Task 2: Count Number of Missing Values</b></div> \n",
    "\n",
    "There were a lot of missing values in the data frame as indicated by the `NaN` values.  We are now interested in determining how many missing values there are in our data set.  We can check this calling the chained-method `.isnull().sum()` of the `traffic` data frame.  "
   ]
  },
  {
   "cell_type": "code",
   "execution_count": 5,
   "metadata": {},
   "outputs": [
    {
     "name": "stdout",
     "output_type": "stream",
     "text": [
      "state                     0\n",
      "stop_date                 0\n",
      "stop_time                 0\n",
      "county_name           91741\n",
      "driver_gender          5205\n",
      "driver_race            5202\n",
      "violation_raw          5202\n",
      "violation              5202\n",
      "search_conducted          0\n",
      "search_type           88434\n",
      "stop_outcome           5202\n",
      "is_arrested            5202\n",
      "stop_duration          5202\n",
      "drugs_related_stop        0\n",
      "district                  0\n",
      "dtype: int64\n"
     ]
    }
   ],
   "source": [
    "print(traffic.isnull().sum())"
   ]
  },
  {
   "cell_type": "markdown",
   "metadata": {},
   "source": [
    "# Data Frame Mutations"
   ]
  },
  {
   "cell_type": "markdown",
   "metadata": {},
   "source": [
    "<div class=\"exercise\"><b>Task 3: Drop Unneeded Columns</b></div> \n",
    "\n",
    "Upon observing the `traffic` data frame, it becomes clear that the `county_name` column only contains missing values, rendering it unnecessary. Additionally, since the data focuses exclusively on the state of Rhode Island, the `state` column is redundant. Therefore, we will drop both the `county_name` and `state` columns from the `traffic` data frame. These columns will be removed in place to ensure they are permanently deleted from the data frame. Below is the Python code to achieve this:"
   ]
  },
  {
   "cell_type": "code",
   "execution_count": 22,
   "metadata": {},
   "outputs": [],
   "source": [
    "traffic.drop(columns=['county_name', 'state'], inplace = True)"
   ]
  },
  {
   "cell_type": "markdown",
   "metadata": {},
   "source": [
    "<div class=\"exercise\"><b>Task 4: Drop Rows with Missing Values</b></div> \n",
    "\n",
    "\n",
    "In this project we are going to focus on the differences between genders with regards to traffic stops.  Therefore, the `driver_gender` column will be critical to many of our analyses. Because only a small fraction of rows are missing `driver_gender`, we'll drop those rows from the dataset."
   ]
  },
  {
   "cell_type": "code",
   "execution_count": 6,
   "metadata": {},
   "outputs": [
    {
     "name": "stdout",
     "output_type": "stream",
     "text": [
      "None\n",
      "state                     0\n",
      "stop_date                 0\n",
      "stop_time                 0\n",
      "county_name           86536\n",
      "driver_gender             0\n",
      "driver_race               0\n",
      "violation_raw             0\n",
      "violation                 0\n",
      "search_conducted          0\n",
      "search_type           83229\n",
      "stop_outcome              0\n",
      "is_arrested               0\n",
      "stop_duration             0\n",
      "drugs_related_stop        0\n",
      "district                  0\n",
      "dtype: int64\n",
      "(86536, 15)\n"
     ]
    }
   ],
   "source": [
    "print(traffic.dropna(subset=['driver_gender'], inplace=True))\n",
    "print(traffic.isnull().sum())\n",
    "print(traffic.shape)"
   ]
  },
  {
   "cell_type": "markdown",
   "metadata": {},
   "source": [
    "<div class=\"exercise\"><b>Task 5: Change a Data Type</b></div> \n",
    "\n",
    "When performing data analysis, it's crucial to ensure the correct data types are being used to avoid unexpected results or errors. The `pd.read_csv()` function in Pandas typically infers the appropriate data types, allowing you to proceed with your analysis without further consideration. However, this automatic inference isn't always accurate."
   ]
  },
  {
   "cell_type": "code",
   "execution_count": 7,
   "metadata": {},
   "outputs": [
    {
     "data": {
      "text/plain": [
       "state                  object\n",
       "stop_date              object\n",
       "stop_time              object\n",
       "county_name           float64\n",
       "driver_gender          object\n",
       "driver_race            object\n",
       "violation_raw          object\n",
       "violation              object\n",
       "search_conducted         bool\n",
       "search_type            object\n",
       "stop_outcome           object\n",
       "is_arrested            object\n",
       "stop_duration          object\n",
       "drugs_related_stop       bool\n",
       "district               object\n",
       "dtype: object"
      ]
     },
     "execution_count": 7,
     "metadata": {},
     "output_type": "execute_result"
    }
   ],
   "source": [
    "# Display column dtypes\n",
    "traffic.dtypes"
   ]
  },
  {
   "cell_type": "markdown",
   "metadata": {},
   "source": [
    "To verify that the `is_arrested` column contains `True` and `False` values and to check its data type, we will first print the head of this column. Next, we will use the `.astype()` method to convert the `is_arrested` column to a `bool` data type. Finally, we will print the head of the updated `is_arrested` column to confirm the successful conversion. Below is the Python code to achieve this:"
   ]
  },
  {
   "cell_type": "code",
   "execution_count": 8,
   "metadata": {},
   "outputs": [
    {
     "name": "stdout",
     "output_type": "stream",
     "text": [
      "0    False\n",
      "1    False\n",
      "2    False\n",
      "3     True\n",
      "4    False\n",
      "Name: is_arrested, dtype: object\n",
      "0    False\n",
      "1    False\n",
      "2    False\n",
      "3     True\n",
      "4    False\n",
      "Name: is_arrested, dtype: bool\n"
     ]
    }
   ],
   "source": [
    "print(traffic.is_arrested.head())\n",
    "traffic.is_arrested = traffic.is_arrested.astype('bool')\n",
    "print(traffic.is_arrested.head())"
   ]
  },
  {
   "cell_type": "markdown",
   "metadata": {},
   "source": [
    "# Examining Traffic Violations"
   ]
  },
  {
   "cell_type": "markdown",
   "metadata": {},
   "source": [
    "<div class=\"exercise\"><b>Task 6: Count and Proportion of Violations</b></div> \n",
    "\n",
    "We begin by examining the violations committed by *all* drivers to get a baseline understanding of the data.\n",
    "\n",
    "I'll count the unique values in the `violation` column, and then separately express those counts as proportions. "
   ]
  },
  {
   "cell_type": "code",
   "execution_count": 9,
   "metadata": {},
   "outputs": [
    {
     "name": "stdout",
     "output_type": "stream",
     "text": [
      "violation\n",
      "Speeding               48423\n",
      "Moving violation       16224\n",
      "Equipment              10921\n",
      "Other                   4409\n",
      "Registration/plates     3703\n",
      "Seat belt               2856\n",
      "Name: count, dtype: int64\n",
      "violation\n",
      "Speeding               0.559571\n",
      "Moving violation       0.187483\n",
      "Equipment              0.126202\n",
      "Other                  0.050950\n",
      "Registration/plates    0.042791\n",
      "Seat belt              0.033004\n",
      "Name: proportion, dtype: float64\n"
     ]
    }
   ],
   "source": [
    "violation_counts = traffic.violation.value_counts()\n",
    "violation_proportions = traffic.violation.value_counts(normalize=True)\n",
    "print(violation_counts)\n",
    "print(violation_proportions)"
   ]
  },
  {
   "cell_type": "markdown",
   "metadata": {},
   "source": [
    "<div class=\"exercise\"><b>Task 7: Violations by Gender</b></div> \n",
    "\n",
    "We are now interested in determining whether male and female drivers tend to commit different types of traffic violations."
   ]
  },
  {
   "cell_type": "code",
   "execution_count": 10,
   "metadata": {},
   "outputs": [
    {
     "data": {
      "text/plain": [
       "driver_gender  violation          \n",
       "F              Speeding               0.658114\n",
       "               Moving violation       0.138218\n",
       "               Equipment              0.105199\n",
       "               Registration/plates    0.044418\n",
       "               Other                  0.029738\n",
       "               Seat belt              0.024312\n",
       "M              Speeding               0.522243\n",
       "               Moving violation       0.206144\n",
       "               Equipment              0.134158\n",
       "               Other                  0.058985\n",
       "               Registration/plates    0.042175\n",
       "               Seat belt              0.036296\n",
       "Name: proportion, dtype: float64"
      ]
     },
     "execution_count": 10,
     "metadata": {},
     "output_type": "execute_result"
    }
   ],
   "source": [
    "traffic.groupby('driver_gender')['violation'].value_counts(normalize=True)"
   ]
  },
  {
   "cell_type": "markdown",
   "metadata": {},
   "source": [
    "<div class=\"exercise\"><b>Task 8: Speeding Outcomes by Gender</b></div> \n",
    "\n",
    "When a driver is pulled over for speeding, many people believe that gender has an impact on whether the driver will receive a `Citation` (ticket) or a `Warning`. Can you find evidence of this in the dataset?\n",
    "\n",
    "In the code cell below, write Python code to do the following.<br>\n",
    "\n",
    "- Create a data frame called `speeding` that contains only those rows of `traffic` for which the `violations` column is `Speeding`.\n",
    "- Write a single line of code that displays the proportions of the different stop outcomes (`stop_outcome`) that resulted from females and males stopped for speeding, respectively.  To accomplish this, you will once again link the `groupby()` and `value_counts()` methods together as in Item #9 of the [article](https://re-thought.com/pandas-value_counts/) from the last task, but only for the `stop_outcome` column.  You'll also need to set the `normalize=True` parameter.\n",
    "\n",
    "The output from my solution is:<br>\n",
    "<code>\n",
    "driver_gender  stop_outcome    \n",
    "F              Citation            0.952192\n",
    "               Warning             0.040074\n",
    "               Arrest Driver       0.005752\n",
    "               N/D                 0.000959\n",
    "               Arrest Passenger    0.000639\n",
    "               No Action           0.000383\n",
    "M              Citation            0.944595\n",
    "               Warning             0.036184\n",
    "               Arrest Driver       0.015895\n",
    "               Arrest Passenger    0.001281\n",
    "               No Action           0.001068\n",
    "               N/D                 0.000976\n",
    "Name: stop_outcome, dtype: float64\n",
    "</code>"
   ]
  },
  {
   "cell_type": "code",
   "execution_count": 28,
   "metadata": {},
   "outputs": [
    {
     "name": "stdout",
     "output_type": "stream",
     "text": [
      "driver_gender  stop_outcome    \n",
      "F              Citation            0.952192\n",
      "               Warning             0.040074\n",
      "               Arrest Driver       0.005752\n",
      "               N/D                 0.000959\n",
      "               Arrest Passenger    0.000639\n",
      "               No Action           0.000383\n",
      "M              Citation            0.944595\n",
      "               Warning             0.036184\n",
      "               Arrest Driver       0.015895\n",
      "               Arrest Passenger    0.001281\n",
      "               No Action           0.001068\n",
      "               N/D                 0.000976\n",
      "Name: proportion, dtype: float64\n"
     ]
    }
   ],
   "source": [
    "speeding = traffic[traffic['violation'] == 'Speeding']\n",
    "proportions = speeding.groupby('driver_gender')['stop_outcome'].value_counts(normalize=True)\n",
    "print(proportions)"
   ]
  },
  {
   "cell_type": "markdown",
   "metadata": {},
   "source": [
    "<div class=\"exercise\"><b>Task 9: Examining Search Rate by Gender</b></div> \n",
    "\n",
    "During a traffic stop, the police officer sometimes conducts a search of the vehicle. First, we will compute the percentage of all stops in the data set that result in a vehicle search, also known as the *search rate*.  Second, we will compare the rates at which female and male drivers are searched during a traffic stop."
   ]
  },
  {
   "cell_type": "code",
   "execution_count": 11,
   "metadata": {},
   "outputs": [
    {
     "name": "stdout",
     "output_type": "stream",
     "text": [
      "search_conducted\n",
      "False    0.961785\n",
      "True     0.038215\n",
      "Name: proportion, dtype: float64\n",
      "driver_gender\n",
      "F    0.019181\n",
      "M    0.045426\n",
      "Name: search_conducted, dtype: float64\n"
     ]
    }
   ],
   "source": [
    "# Overall proportion of traffic stops resulting in a search\n",
    "overall_search_rate = traffic.search_conducted.value_counts(normalize=True)\n",
    "print(overall_search_rate)\n",
    "# Search rate by gender\n",
    "search_rate_by_gender = traffic.groupby('driver_gender')['search_conducted'].mean()\n",
    "print(search_rate_by_gender)"
   ]
  },
  {
   "cell_type": "markdown",
   "metadata": {},
   "source": [
    "<div class=\"exercise\"><b>Task 10: Search Rates by Violation Type</b></div> \n",
    "\n",
    "Even though the search rate for males is much higher than for females, it's possible that the difference is mostly due to a second factor.  For example, you might hypothesize that the search rate varies by violation type, and the difference in search rate between males and females is because they tend to commit different violations."
   ]
  },
  {
   "cell_type": "code",
   "execution_count": 12,
   "metadata": {},
   "outputs": [
    {
     "name": "stdout",
     "output_type": "stream",
     "text": [
      "violation            driver_gender\n",
      "Equipment            F                0.039984\n",
      "                     M                0.071496\n",
      "Moving violation     F                0.039257\n",
      "                     M                0.061524\n",
      "Other                F                0.041018\n",
      "                     M                0.046191\n",
      "Registration/plates  F                0.054924\n",
      "                     M                0.108802\n",
      "Seat belt            F                0.017301\n",
      "                     M                0.035119\n",
      "Speeding             F                0.008309\n",
      "                     M                0.027885\n",
      "Name: search_conducted, dtype: float64\n"
     ]
    }
   ],
   "source": [
    "# Group by violation and driver gender, then calculate the search rate\n",
    "search_rate = traffic.groupby(['violation', 'driver_gender'])['search_conducted'].mean()\n",
    "print(search_rate)"
   ]
  },
  {
   "cell_type": "markdown",
   "metadata": {},
   "source": [
    "<div class=\"exercise\"><b>Task 11: Examining Frisk Rates</b></div> \n",
    "\n",
    "During a vehicle search, the police officer may pat down the driver to check if they have a weapon. This is known as a \"protective frisk.\"\n",
    "\n",
    "In the code cell below, use the `.value_counts()` method applied to the `search_type` column to see the different types of searches contained in the data and the counts of these different searches (do not normalize)."
   ]
  },
  {
   "cell_type": "code",
   "execution_count": 13,
   "metadata": {},
   "outputs": [
    {
     "name": "stdout",
     "output_type": "stream",
     "text": [
      "search_type\n",
      "Incident to Arrest                                          1290\n",
      "Probable Cause                                               924\n",
      "Inventory                                                    219\n",
      "Reasonable Suspicion                                         214\n",
      "Protective Frisk                                             164\n",
      "Incident to Arrest,Inventory                                 123\n",
      "Incident to Arrest,Probable Cause                            100\n",
      "Probable Cause,Reasonable Suspicion                           54\n",
      "Incident to Arrest,Inventory,Probable Cause                   35\n",
      "Probable Cause,Protective Frisk                               35\n",
      "Incident to Arrest,Protective Frisk                           33\n",
      "Inventory,Probable Cause                                      25\n",
      "Protective Frisk,Reasonable Suspicion                         19\n",
      "Incident to Arrest,Inventory,Protective Frisk                 18\n",
      "Incident to Arrest,Probable Cause,Protective Frisk            13\n",
      "Inventory,Protective Frisk                                    12\n",
      "Incident to Arrest,Reasonable Suspicion                        8\n",
      "Probable Cause,Protective Frisk,Reasonable Suspicion           5\n",
      "Incident to Arrest,Probable Cause,Reasonable Suspicion         5\n",
      "Incident to Arrest,Inventory,Reasonable Suspicion              4\n",
      "Incident to Arrest,Protective Frisk,Reasonable Suspicion       2\n",
      "Inventory,Reasonable Suspicion                                 2\n",
      "Inventory,Protective Frisk,Reasonable Suspicion                1\n",
      "Inventory,Probable Cause,Reasonable Suspicion                  1\n",
      "Inventory,Probable Cause,Protective Frisk                      1\n",
      "Name: count, dtype: int64\n"
     ]
    }
   ],
   "source": [
    "search_types_counts = traffic.search_type.value_counts()\n",
    "print(search_types_counts)"
   ]
  },
  {
   "cell_type": "code",
   "execution_count": 20,
   "metadata": {},
   "outputs": [
    {
     "name": "stdout",
     "output_type": "stream",
     "text": [
      "The total number of frisks was 303\n"
     ]
    }
   ],
   "source": [
    "# Create a new column 'frisk' indicating if a frisk occurred during a stop\n",
    "traffic.frisk = traffic.search_type.str.contains('Protective Frisk', na=False)\n",
    "\n",
    "#Print out\n",
    "print(\"The total number of frisks was\", traffic.frisk.sum())"
   ]
  },
  {
   "cell_type": "markdown",
   "metadata": {},
   "source": [
    "# Violations by District\n",
    "\n",
    "The state of Rhode Island is broken into six police districts, also known as *zones*. How do the zones compare in terms of what violations are caught by police?"
   ]
  },
  {
   "cell_type": "markdown",
   "metadata": {},
   "source": [
    "<div class=\"exercise\"><b>Task 13: Comparing Violations by District</b></div> "
   ]
  },
  {
   "cell_type": "code",
   "execution_count": 22,
   "metadata": {},
   "outputs": [
    {
     "name": "stdout",
     "output_type": "stream",
     "text": [
      "violation  Equipment  Moving violation  Other  Registration/plates  Seat belt  \\\n",
      "district                                                                        \n",
      "Zone K1          672              1254    290                  120          0   \n",
      "Zone K2         2061              2962    942                  768        481   \n",
      "Zone K3         2302              2898    705                  695        638   \n",
      "\n",
      "violation  Speeding  \n",
      "district             \n",
      "Zone K1        5960  \n",
      "Zone K2       10448  \n",
      "Zone K3       12322  \n"
     ]
    }
   ],
   "source": [
    "# Create a frequency table for violations in each district\n",
    "all_zones = pd.crosstab(traffic.district, traffic.violation)\n",
    "\n",
    "# Select rows 'Zone K1' through 'Zone K3' from the all_zones table\n",
    "k_zones = all_zones.loc['Zone K1':'Zone K3']\n",
    "\n",
    "# Print the k_zones table\n",
    "print(k_zones)"
   ]
  },
  {
   "cell_type": "markdown",
   "metadata": {},
   "source": [
    "Visualizing the data to help you compare what violations are being caught in each zone."
   ]
  },
  {
   "cell_type": "code",
   "execution_count": 23,
   "metadata": {},
   "outputs": [
    {
     "data": {
      "image/png": "[encoded data removed]",
      "text/plain": [
       "<Figure size 640x480 with 1 Axes>"
      ]
     },
     "metadata": {},
     "output_type": "display_data"
    },
    {
     "data": {
      "image/png": "[encoded data removed]",
      "text/plain": [
       "<Figure size 640x480 with 1 Axes>"
      ]
     },
     "metadata": {},
     "output_type": "display_data"
    }
   ],
   "source": [
    "all_zones = pd.crosstab(traffic.district, traffic.violation)\n",
    "k_zones = all_zones.loc['Zone K1':'Zone K3']\n",
    "# Standard bar chart\n",
    "k_zones.plot(kind='bar')\n",
    "plt.legend(title='violation')\n",
    "plt.show()\n",
    "\n",
    "# Stacked bar chart\n",
    "k_zones.plot(kind='bar', stacked=True)\n",
    "plt.legend(title='violation')\n",
    "plt.show()"
   ]
  },
  {
   "cell_type": "markdown",
   "metadata": {},
   "source": [
    "# Date-Time Format\n",
    "\n",
    "Currently, the date and time of each traffic stop are stored in separate object columns: `stop_date` and `stop_time`.  It will be beneficial to combine these two columns into a single column and then convert it to `datetime` format.  This will enable convenient date-based attributes."
   ]
  },
  {
   "cell_type": "code",
   "execution_count": 24,
   "metadata": {},
   "outputs": [
    {
     "name": "stdout",
     "output_type": "stream",
     "text": [
      "0   2005-01-04 12:55:00\n",
      "1   2005-01-23 23:15:00\n",
      "2   2005-02-17 04:15:00\n",
      "3   2005-02-20 17:15:00\n",
      "4   2005-02-24 01:20:00\n",
      "Name: stop_datetime, dtype: datetime64[ns]\n"
     ]
    }
   ],
   "source": [
    "# Concatenate columns\n",
    "combined = traffic['stop_date'].str.cat(traffic['stop_time'], sep=' ')\n",
    "\n",
    "# Convert combined to datetime format and store in a new column\n",
    "traffic['stop_datetime'] = pd.to_datetime(combined)\n",
    "\n",
    "# Verify the result\n",
    "print(traffic['stop_datetime'].head())"
   ]
  },
  {
   "cell_type": "markdown",
   "metadata": {},
   "source": [
    "It makes sense to set the `stop_datetime` column as the data frames `index`. By replacing the default `index` with a `DatetimeIndex`, it will make it easier to analyze the data by date and time.\n",
    "\n",
    "In the code cell below, write Python code to do the following.<br>\n",
    "\n",
    "- Set `stop_datetime` as the `index` of `traffic` using the `.set_index()` method--be sure to do it *in place*.\n",
    "- Print `traffic.head()` to verify that `stop_datetime` is no longer a column in `traffic`.\n",
    "\n",
    "The output from my solution is as follows:<br>\n",
    "\n",
    "<code>\n",
    "                      stop_date stop_time driver_gender driver_race  \\\n",
    "stop_datetime                                                         \n",
    "2005-01-04 12:55:00  2005-01-04     12:55             M       White   \n",
    "2005-01-23 23:15:00  2005-01-23     23:15             M       White   \n",
    "2005-02-17 04:15:00  2005-02-17     04:15             M       White   \n",
    "2005-02-20 17:15:00  2005-02-20     17:15             M       White   \n",
    "2005-02-24 01:20:00  2005-02-24     01:20             F       White   \n",
    "</code><code>\n",
    "                                      violation_raw  violation  \\\n",
    "stop_datetime                                                    \n",
    "2005-01-04 12:55:00  Equipment/Inspection Violation  Equipment   \n",
    "2005-01-23 23:15:00                        Speeding   Speeding   \n",
    "2005-02-17 04:15:00                        Speeding   Speeding   \n",
    "2005-02-20 17:15:00                Call for Service      Other   \n",
    "2005-02-24 01:20:00                        Speeding   Speeding   \n",
    "</code><code>\n",
    "                     search_conducted search_type   stop_outcome  is_arrested  \\\n",
    "stop_datetime                                                                   \n",
    "2005-01-04 12:55:00             False         NaN       Citation        False   \n",
    "2005-01-23 23:15:00             False         NaN       Citation        False   \n",
    "2005-02-17 04:15:00             False         NaN       Citation        False   \n",
    "2005-02-20 17:15:00             False         NaN  Arrest Driver         True   \n",
    "2005-02-24 01:20:00             False         NaN       Citation        False   \n",
    "</code><code>\n",
    "                    stop_duration  drugs_related_stop district  frisk  \n",
    "stop_datetime                                                          \n",
    "2005-01-04 12:55:00      0-15 Min               False  Zone X4  False  \n",
    "2005-01-23 23:15:00      0-15 Min               False  Zone K3  False  \n",
    "2005-02-17 04:15:00      0-15 Min               False  Zone X4  False  \n",
    "2005-02-20 17:15:00     16-30 Min               False  Zone X1  False  \n",
    "2005-02-24 01:20:00      0-15 Min               False  Zone X3  False   \n",
    "</code>"
   ]
  },
  {
   "cell_type": "code",
   "execution_count": 25,
   "metadata": {},
   "outputs": [
    {
     "name": "stdout",
     "output_type": "stream",
     "text": [
      "                    state   stop_date stop_time  county_name driver_gender  \\\n",
      "stop_datetime                                                                \n",
      "2005-01-04 12:55:00    RI  2005-01-04     12:55          NaN             M   \n",
      "2005-01-23 23:15:00    RI  2005-01-23     23:15          NaN             M   \n",
      "2005-02-17 04:15:00    RI  2005-02-17     04:15          NaN             M   \n",
      "2005-02-20 17:15:00    RI  2005-02-20     17:15          NaN             M   \n",
      "2005-02-24 01:20:00    RI  2005-02-24     01:20          NaN             F   \n",
      "\n",
      "                    driver_race                   violation_raw  violation  \\\n",
      "stop_datetime                                                                \n",
      "2005-01-04 12:55:00       White  Equipment/Inspection Violation  Equipment   \n",
      "2005-01-23 23:15:00       White                        Speeding   Speeding   \n",
      "2005-02-17 04:15:00       White                        Speeding   Speeding   \n",
      "2005-02-20 17:15:00       White                Call for Service      Other   \n",
      "2005-02-24 01:20:00       White                        Speeding   Speeding   \n",
      "\n",
      "                     search_conducted search_type   stop_outcome  is_arrested  \\\n",
      "stop_datetime                                                                   \n",
      "2005-01-04 12:55:00             False         NaN       Citation        False   \n",
      "2005-01-23 23:15:00             False         NaN       Citation        False   \n",
      "2005-02-17 04:15:00             False         NaN       Citation        False   \n",
      "2005-02-20 17:15:00             False         NaN  Arrest Driver         True   \n",
      "2005-02-24 01:20:00             False         NaN       Citation        False   \n",
      "\n",
      "                    stop_duration  drugs_related_stop district  \n",
      "stop_datetime                                                   \n",
      "2005-01-04 12:55:00      0-15 Min               False  Zone X4  \n",
      "2005-01-23 23:15:00      0-15 Min               False  Zone K3  \n",
      "2005-02-17 04:15:00      0-15 Min               False  Zone X4  \n",
      "2005-02-20 17:15:00     16-30 Min               False  Zone X1  \n",
      "2005-02-24 01:20:00      0-15 Min               False  Zone X3  \n"
     ]
    }
   ],
   "source": [
    "# Set stop_datetime as the index of traffic\n",
    "traffic.set_index('stop_datetime', inplace=True)\n",
    "\n",
    "# Verify the result\n",
    "print(traffic.head())"
   ]
  },
  {
   "cell_type": "markdown",
   "metadata": {},
   "source": [
    "# Further Analysis Using Date and Time"
   ]
  },
  {
   "cell_type": "markdown",
   "metadata": {},
   "source": [
    "<div class=\"exercise\"><b>Task 15: Investigating Hourly Arrest Rate</b></div> \n",
    "\n",
    "When a police officer stops a driver, a small percentage of those stops ends in an arrest. This is known as the *arrest rate*. We are interested in determining if the arrest rate varies by time of day."
   ]
  },
  {
   "cell_type": "code",
   "execution_count": 26,
   "metadata": {},
   "outputs": [
    {
     "name": "stdout",
     "output_type": "stream",
     "text": [
      "The overall arrest rate is 0.0355690117407784\n",
      "\n",
      "stop_datetime\n",
      "0     0.051431\n",
      "1     0.064932\n",
      "2     0.060798\n",
      "3     0.060549\n",
      "4     0.048000\n",
      "5     0.042781\n",
      "6     0.013813\n",
      "7     0.013032\n",
      "8     0.021854\n",
      "9     0.025206\n",
      "10    0.028213\n",
      "11    0.028897\n",
      "12    0.037399\n",
      "13    0.030776\n",
      "14    0.030605\n",
      "15    0.030679\n",
      "16    0.035281\n",
      "17    0.040619\n",
      "18    0.038204\n",
      "19    0.032245\n",
      "20    0.038107\n",
      "21    0.064541\n",
      "22    0.048666\n",
      "23    0.047592\n",
      "Name: is_arrested, dtype: float64\n"
     ]
    },
    {
     "data": {
      "image/png": "[encoded data removed]",
      "text/plain": [
       "<Figure size 640x480 with 1 Axes>"
      ]
     },
     "metadata": {},
     "output_type": "display_data"
    }
   ],
   "source": [
    "# Calculate and print the overall arrest rate\n",
    "overallArrestRate = traffic.is_arrested.mean()\n",
    "print('The overall arrest rate is ' + str(overallArrestRate) + '\\n')\n",
    "\n",
    "# Calculate and print the hourly arrest rate\n",
    "hourly_arrest_rate = traffic.groupby(traffic.index.hour).is_arrested.mean()\n",
    "print(hourly_arrest_rate)\n",
    "\n",
    "# Create a line plot of 'hourly_arrest_rate'\n",
    "import matplotlib.pyplot as plt\n",
    "plt.plot(hourly_arrest_rate)\n",
    "plt.xlabel('Hour')\n",
    "plt.ylabel('Arrest Rate')\n",
    "plt.title('Arrest Rate by Time of Day')\n",
    "plt.show()"
   ]
  },
  {
   "cell_type": "markdown",
   "metadata": {},
   "source": [
    "# Examining Stop Durations\n",
    "\n",
    "In the traffic stops dataset, the `stop_duration` column tells you approximately how long the driver was detained by the officer. Unfortunately, the durations are stored as strings, such as `'0-15 Min'`. If we want to analyze this data we will need to convert this column into a more useful form."
   ]
  },
  {
   "cell_type": "markdown",
   "metadata": {},
   "source": [
    "<div class=\"exercise\"><b>Task 16: Converting Stop Durations to Numbers</b></div> \n",
    "\n",
    "Let's convert the stop durations to integers, which will allow us to better analyze them. Because the precise durations are not available, we will have to estimate the numbers using *reasonable* values.  Specifically, we will use the following conversions:<br>\n",
    "\n",
    "    Convert '0-15 Min' to 8\n",
    "    Convert '16-30 Min' to 23\n",
    "    Convert '30+ Min' to 45\n",
    "\n",
    "That is, we will estimate that stops in the `'0-15 Min'` group lasted 8 minutes, those in the `'16-30 Min'` group took 23 minutes, and those in the `'30+ Min'` group took 45 minutes."
   ]
  },
  {
   "cell_type": "code",
   "execution_count": 27,
   "metadata": {},
   "outputs": [
    {
     "name": "stdout",
     "output_type": "stream",
     "text": [
      "                    stop_duration  stop_minutes\n",
      "stop_datetime                                  \n",
      "2005-01-04 12:55:00      0-15 Min             8\n",
      "2005-01-23 23:15:00      0-15 Min             8\n",
      "2005-02-17 04:15:00      0-15 Min             8\n",
      "2005-02-20 17:15:00     16-30 Min            23\n",
      "2005-02-24 01:20:00      0-15 Min             8\n",
      "2005-03-14 10:00:00      0-15 Min             8\n",
      "2005-03-29 21:55:00      0-15 Min             8\n",
      "2005-04-04 21:25:00      0-15 Min             8\n",
      "2005-07-14 11:20:00      0-15 Min             8\n",
      "2005-07-14 19:55:00      0-15 Min             8\n"
     ]
    }
   ],
   "source": [
    "# Create a dictionary mapping stop_duration strings to integers\n",
    "mapping = {'0-15 Min': 8, '16-30 Min': 23, '30+ Min': 45}\n",
    "\n",
    "# Convert stop_duration strings to integers using mapping and store the results in a new column stop_minutes\n",
    "traffic['stop_minutes'] = traffic['stop_duration'].map(mapping)\n",
    "\n",
    "# Print the first 10 rows\n",
    "print(traffic[['stop_duration', 'stop_minutes']].head(10))"
   ]
  },
  {
   "cell_type": "markdown",
   "metadata": {},
   "source": [
    "<div class=\"exercise\"><b>Task 17: Plotting Stop Lengths</b></div> \n",
    "\n",
    "If you were stopped for a particular violation, how long might you expect to be detained?"
   ]
  },
  {
   "cell_type": "code",
   "execution_count": 28,
   "metadata": {},
   "outputs": [
    {
     "name": "stdout",
     "output_type": "stream",
     "text": [
      "violation_raw\n",
      "APB                                 17.967033\n",
      "Call for Service                    22.124371\n",
      "Equipment/Inspection Violation      11.445655\n",
      "Motorist Assist/Courtesy            17.741463\n",
      "Other Traffic Violation             13.844490\n",
      "Registration Violation              13.736970\n",
      "Seatbelt Violation                   9.662815\n",
      "Special Detail/Directed Patrol      15.123632\n",
      "Speeding                            10.581562\n",
      "Suspicious Person                   14.910714\n",
      "Violation of City/Town Ordinance    13.254144\n",
      "Warrant                             24.055556\n",
      "Name: stop_minutes, dtype: float64\n"
     ]
    },
    {
     "data": {
      "image/png": "[encoded data removed]",
      "text/plain": [
       "<Figure size 640x480 with 1 Axes>"
      ]
     },
     "metadata": {},
     "output_type": "display_data"
    }
   ],
   "source": [
    "# Calculate the mean stop_minutes for each violation_raw\n",
    "stop_length = traffic.groupby('violation_raw')['stop_minutes'].mean()\n",
    "\n",
    "# Print stop_length\n",
    "print(stop_length)\n",
    "\n",
    "# Sort stop_length by values and visualize with a horizontal bar plot\n",
    "stop_length.sort_values().plot(kind='barh')\n",
    "plt.show()"
   ]
  },
  {
   "cell_type": "markdown",
   "metadata": {},
   "source": [
    "# The Effect of Temperature\n",
    "\n",
    "We now wish to assess the effect of weather on the arrest rate. For the remainder of this project we will be working with a new data set to help us determine if weather conditions have an impact on police behavior.  The weather data we will be using was collected by the [National Centers for Environmental Information](https://www.ncei.noaa.gov/). \n",
    "\n",
    "We are interested in determining if weather conditions impact police behavior during traffic stops.  Ideally, we would look up the historical weather at the location of each stop. However, the traffic stops data set does not specify stop location, so we're going to use the data from a single weather station near the center of Rhode Island. This is not ideal, but Rhode Island is the smallest US state and so a single station will still give us a *general idea* of the weather throughout the state."
   ]
  },
  {
   "cell_type": "code",
   "execution_count": 29,
   "metadata": {},
   "outputs": [
    {
     "name": "stdout",
     "output_type": "stream",
     "text": [
      "       STATION        DATE  TAVG  TMIN  TMAX  AWND  WSF2  WT01  WT02  WT03  \\\n",
      "0  USW00014765  2005-01-01  44.0    35    53  8.95  25.1   1.0   NaN   NaN   \n",
      "1  USW00014765  2005-01-02  36.0    28    44  9.40  14.1   NaN   NaN   NaN   \n",
      "2  USW00014765  2005-01-03  49.0    44    53  6.93  17.0   1.0   NaN   NaN   \n",
      "3  USW00014765  2005-01-04  42.0    39    45  6.93  16.1   1.0   NaN   NaN   \n",
      "4  USW00014765  2005-01-05  36.0    28    43  7.83  17.0   1.0   NaN   NaN   \n",
      "\n",
      "   ...  WT11  WT13  WT14  WT15  WT16  WT17  WT18  WT19  WT21  WT22  \n",
      "0  ...   NaN   1.0   NaN   NaN   NaN   NaN   NaN   NaN   NaN   NaN  \n",
      "1  ...   NaN   NaN   NaN   NaN   1.0   NaN   1.0   NaN   NaN   NaN  \n",
      "2  ...   NaN   1.0   NaN   NaN   1.0   NaN   NaN   NaN   NaN   NaN  \n",
      "3  ...   NaN   1.0   1.0   NaN   1.0   NaN   NaN   NaN   NaN   NaN  \n",
      "4  ...   NaN   1.0   NaN   NaN   1.0   NaN   1.0   NaN   NaN   NaN  \n",
      "\n",
      "[5 rows x 27 columns]\n"
     ]
    }
   ],
   "source": [
    "weather = pd.read_csv(\"project1Data/weather.csv\")\n",
    "print(weather.head())"
   ]
  },
  {
   "cell_type": "markdown",
   "metadata": {},
   "source": [
    "<div class=\"exercise\"><b>Task 19: Categorizing Weather Days</b></div> \n",
    "\n",
    "Let's try to quantify how \"bad\" the weather was each day by counting the number of 1 values in each row."
   ]
  },
  {
   "cell_type": "code",
   "execution_count": 37,
   "metadata": {},
   "outputs": [
    {
     "data": {
      "image/png": "[encoded data removed]",
      "text/plain": [
       "<Figure size 640x480 with 1 Axes>"
      ]
     },
     "metadata": {},
     "output_type": "display_data"
    }
   ],
   "source": [
    "# Copy 'WT01' through 'WT22' to a new DataFrame\n",
    "WT = weather.loc[:, 'WT01':'WT22']\n",
    "\n",
    "# Calculate the sum of each row in 'WT'\n",
    "weather['bad_conditions'] = WT.sum(axis='columns')\n",
    "\n",
    "# Replace missing values in 'bad_conditions' with '0'\n",
    "weather['bad_conditions'] = weather.bad_conditions.fillna(0).astype('int')\n",
    "\n",
    "# Create a histogram to visualize 'bad_conditions'\n",
    "weather['bad_conditions'].plot(kind='hist')\n",
    "plt.xlabel('Number of Bad Weather Conditions')\n",
    "\n",
    "# Display the plot\n",
    "plt.show()"
   ]
  },
  {
   "cell_type": "code",
   "execution_count": 38,
   "metadata": {},
   "outputs": [
    {
     "name": "stdout",
     "output_type": "stream",
     "text": [
      "rating\n",
      "bad      1836\n",
      "good     1749\n",
      "worse     432\n",
      "Name: count, dtype: int64\n"
     ]
    }
   ],
   "source": [
    "# Create a dictionary that maps integers to strings\n",
    "mapping = {0:'good', 1:'bad', 2:'bad', 3:'bad', 4:'bad', 5:'worse', 6:'worse', 7:'worse', 8:'worse', 9:'worse'}\n",
    "\n",
    "# Convert the 'bad_conditions' integers to strings using the 'mapping'\n",
    "weather['rating'] = weather['bad_conditions'].map(mapping)\n",
    "\n",
    "# Count the unique values in 'rating'\n",
    "print(weather['rating'].value_counts())"
   ]
  },
  {
   "cell_type": "markdown",
   "metadata": {},
   "source": [
    "<div class=\"exercise\"><b>Task 21: Preparing to Merge the Data Frames</b></div> \n",
    "\n",
    "Before we can determine if weather conditions have an impact on police behavior, we need to merge our `traffic` and `weather` data frames.  In this task we will prepare the data frames to be merged."
   ]
  },
  {
   "cell_type": "code",
   "execution_count": 41,
   "metadata": {},
   "outputs": [
    {
     "name": "stdout",
     "output_type": "stream",
     "text": [
      "         DATE rating\n",
      "0  2005-01-01    bad\n",
      "1  2005-01-02    bad\n",
      "2  2005-01-03    bad\n",
      "3  2005-01-04    bad\n",
      "4  2005-01-05    bad\n"
     ]
    }
   ],
   "source": [
    "# Reset the index of 'traffic'\n",
    "traffic.reset_index(inplace=True)\n",
    "\n",
    "# Create a DataFrame called 'weather_rating' from the 'DATE' and 'rating' columns\n",
    "weather_rating = weather[['DATE', 'rating']]\n",
    "\n",
    "# Examine the head of 'weather_rating'\n",
    "print(weather_rating.head())"
   ]
  },
  {
   "cell_type": "markdown",
   "metadata": {},
   "source": [
    "<div class=\"exercise\"><b>Task 22: Merging the Data Frames</b></div> \n",
    "\n",
    "We are now ready to merge the `traffic` and `weather_rating` data frames. The data frames will be joined using the `stop_date` column from `traffic` and the `DATE` column from `weather_rating`. Thankfully, the date formatting matches exactly, which is not always the case!"
   ]
  },
  {
   "cell_type": "code",
   "execution_count": 42,
   "metadata": {},
   "outputs": [
    {
     "name": "stdout",
     "output_type": "stream",
     "text": [
      "                      stop_date        DATE rating\n",
      "stop_datetime                                     \n",
      "2005-01-04 12:55:00  2005-01-04  2005-01-04    bad\n",
      "2005-01-23 23:15:00  2005-01-23  2005-01-23  worse\n",
      "2005-02-17 04:15:00  2005-02-17  2005-02-17   good\n",
      "2005-02-20 17:15:00  2005-02-20  2005-02-20    bad\n",
      "2005-02-24 01:20:00  2005-02-24  2005-02-24    bad\n",
      "The shape of the data frame is (86536, 20)\n"
     ]
    }
   ],
   "source": [
    "# Merge 'traffic' and 'weather_rating' using a left join\n",
    "traffic_weather = pd.merge(traffic, weather_rating, left_on='stop_date', right_on='DATE', how='left')\n",
    "\n",
    "# Set 'stop_datetime' as the index of 'traffic_weather'\n",
    "traffic_weather.set_index('stop_datetime', inplace=True)\n",
    "\n",
    "# Print the head of 'traffic_weather'\n",
    "print(traffic_weather[['stop_date', 'DATE', 'rating']].head())\n",
    "\n",
    "# Examine the shape of 'traffic_weather'\n",
    "print(\"The shape of the data frame is\", traffic_weather.shape)"
   ]
  },
  {
   "cell_type": "markdown",
   "metadata": {},
   "source": [
    "<div class=\"exercise\"><b>Task 23: Comparing Arrest Rates by Weather Rating</b></div> \n",
    "\n",
    "We are finally ready to examine if police officers arrest drivers more often when the weather is bad."
   ]
  },
  {
   "cell_type": "code",
   "execution_count": 43,
   "metadata": {},
   "outputs": [
    {
     "name": "stdout",
     "output_type": "stream",
     "text": [
      "violation            rating\n",
      "Equipment            bad       0.066311\n",
      "                     good      0.059007\n",
      "                     worse     0.097357\n",
      "Moving violation     bad       0.058050\n",
      "                     good      0.056227\n",
      "                     worse     0.065860\n",
      "Other                bad       0.087443\n",
      "                     good      0.076966\n",
      "                     worse     0.062893\n",
      "Registration/plates  bad       0.098160\n",
      "                     good      0.081574\n",
      "                     worse     0.115625\n",
      "Seat belt            bad       0.022493\n",
      "                     good      0.028587\n",
      "                     worse     0.000000\n",
      "Speeding             bad       0.013314\n",
      "                     good      0.013405\n",
      "                     worse     0.016886\n",
      "Name: is_arrested, dtype: float64\n"
     ]
    }
   ],
   "source": [
    "# Save the output of the groupby operation from the last exercise\n",
    "arrest_rate = traffic_weather.groupby(['violation', 'rating']).is_arrested.mean()\n",
    "print(arrest_rate)"
   ]
  },
  {
   "cell_type": "markdown",
   "metadata": {},
   "source": [
    "<div class=\"exercise\"><b>Task 24: Reshaping the Arrest Data</b></div> \n",
    "\n",
    "First, note that since we previously defined a logical order for the weather categories, `good < bad < worse`, our results were sorted in that way.\n",
    "\n",
    "Second, note that the output of the single `.groupby()` operation on multiple columns is a `Series` with a `MultiIndex`.  Specifically, the `arrest_rate` object from the last task is a `MultiIndex` `Series`.\n",
    "\n",
    "Let's *reshape* `arrest_rate` into a data frame.  This is a useful step when working with any multi-indexed `Series`, since it enables you to access the full range of data frame methods."
   ]
  },
  {
   "cell_type": "code",
   "execution_count": 44,
   "metadata": {},
   "outputs": [
    {
     "name": "stdout",
     "output_type": "stream",
     "text": [
      "rating                    bad      good     worse\n",
      "violation                                        \n",
      "Equipment            0.066311  0.059007  0.097357\n",
      "Moving violation     0.058050  0.056227  0.065860\n",
      "Other                0.087443  0.076966  0.062893\n",
      "Registration/plates  0.098160  0.081574  0.115625\n",
      "Seat belt            0.022493  0.028587  0.000000\n",
      "Speeding             0.013314  0.013405  0.016886\n"
     ]
    }
   ],
   "source": [
    "# Reshape arrest_rate into a data frame\n",
    "arrest_rate_df = arrest_rate.unstack()\n",
    "\n",
    "# Print arrest_rate_df\n",
    "print(arrest_rate_df)"
   ]
  }
 ],
 "metadata": {
  "celltoolbar": "Raw Cell Format",
  "kernelspec": {
   "display_name": "Python 3 (ipykernel)",
   "language": "python",
   "name": "python3"
  },
  "language_info": {
   "codemirror_mode": {
    "name": "ipython",
    "version": 3
   },
   "file_extension": ".py",
   "mimetype": "text/x-python",
   "name": "python",
   "nbconvert_exporter": "python",
   "pygments_lexer": "ipython3",
   "version": "3.11.5"
  }
 },
 "nbformat": 4,
 "nbformat_minor": 2
}
